{
  "nbformat": 4,
  "nbformat_minor": 0,
  "metadata": {
    "colab": {
      "provenance": []
    },
    "kernelspec": {
      "name": "python3",
      "display_name": "Python 3"
    },
    "language_info": {
      "name": "python"
    }
  },
  "cells": [
    {
      "cell_type": "markdown",
      "source": [
        "# Approach\n",
        "To solve this problem, we can utilize the Pandas library in Python. We use the .pivot_table() function to pivot the 'weather' DataFrame. We specify 'month' as the index, 'city' as the columns, 'temperature' as the values, and 'max' as the aggregation function to calculate the maximum temperature for each combination of month and city."
      ],
      "metadata": {
        "id": "3Snf6l0b5rbh"
      }
    },
    {
      "cell_type": "markdown",
      "source": [
        "# My Code"
      ],
      "metadata": {
        "id": "d5E_P4wV6CWg"
      }
    },
    {
      "cell_type": "code",
      "execution_count": 3,
      "metadata": {
        "id": "YUeRwBqq5N4Q"
      },
      "outputs": [],
      "source": [
        "import pandas as pd\n",
        "\n",
        "def pivotTable(weather: pd.DataFrame) -> pd.DataFrame:\n",
        "    return weather.pivot_table(index='month',columns='city',values='temperature')\n",
        ""
      ]
    }
  ]
}