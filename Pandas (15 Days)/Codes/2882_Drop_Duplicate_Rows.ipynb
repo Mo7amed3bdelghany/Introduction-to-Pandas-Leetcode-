{
  "nbformat": 4,
  "nbformat_minor": 0,
  "metadata": {
    "colab": {
      "provenance": []
    },
    "kernelspec": {
      "name": "python3",
      "display_name": "Python 3"
    },
    "language_info": {
      "name": "python"
    }
  },
  "cells": [
    {
      "cell_type": "code",
      "execution_count": 1,
      "metadata": {
        "id": "gHlMIqTIAU6p"
      },
      "outputs": [],
      "source": [
        "import pandas as pd\n",
        "\n",
        "def dropDuplicateEmails(customers: pd.DataFrame) -> pd.DataFrame:\n",
        "    customers.drop_duplicates(subset=['email'], inplace=True, keep='first')\n",
        "    return customers"
      ]
    },
    {
      "cell_type": "code",
      "source": [],
      "metadata": {
        "id": "dd7gBhtHAafZ"
      },
      "execution_count": null,
      "outputs": []
    }
  ]
}