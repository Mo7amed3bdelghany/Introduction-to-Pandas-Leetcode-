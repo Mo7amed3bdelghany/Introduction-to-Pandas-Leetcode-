{
  "nbformat": 4,
  "nbformat_minor": 0,
  "metadata": {
    "colab": {
      "provenance": []
    },
    "kernelspec": {
      "name": "python3",
      "display_name": "Python 3"
    },
    "language_info": {
      "name": "python"
    }
  },
  "cells": [
    {
      "cell_type": "markdown",
      "source": [
        "# Approach\n",
        "This function is useful to massage a DataFrame into a format where **one or more columns are identifier variables** (id_vars), while **all other columns, considered measured variables** (value_vars), are “unpivoted” to the row axis, leaving just two non-identifier columns, ‘variable’ and ‘value’.\n",
        "\n",
        "**report** - represent the name of the data       \n",
        "**id_vars = 'product'** - the product column is considered as the index value for the table.           \n",
        "**var_name = 'quarter'** - names the variable column name as quater.           \n",
        "**value_name = 'sales'** -the name of the value column is set as sales.   "
      ],
      "metadata": {
        "id": "3Snf6l0b5rbh"
      }
    },
    {
      "cell_type": "markdown",
      "source": [
        "# My Code"
      ],
      "metadata": {
        "id": "d5E_P4wV6CWg"
      }
    },
    {
      "cell_type": "code",
      "execution_count": 4,
      "metadata": {
        "id": "YUeRwBqq5N4Q"
      },
      "outputs": [],
      "source": [
        "import pandas as pd\n",
        "\n",
        "def meltTable(report: pd.DataFrame) -> pd.DataFrame:\n",
        "    return report.melt(id_vars='product',var_name='quarter',value_name='sales')"
      ]
    }
  ]
}