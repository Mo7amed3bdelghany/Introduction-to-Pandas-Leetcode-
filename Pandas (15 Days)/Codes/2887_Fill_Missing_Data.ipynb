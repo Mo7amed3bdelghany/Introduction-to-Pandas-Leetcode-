{
  "nbformat": 4,
  "nbformat_minor": 0,
  "metadata": {
    "colab": {
      "provenance": []
    },
    "kernelspec": {
      "name": "python3",
      "display_name": "Python 3"
    },
    "language_info": {
      "name": "python"
    }
  },
  "cells": [
    {
      "cell_type": "markdown",
      "source": [
        "# Approach\n",
        "To solve this problem, we can utilize the Pandas library in Python. We use the .fillna() method on the 'quantity' column of the 'products' DataFrame to replace missing values with zeros.\n"
      ],
      "metadata": {
        "id": "3Snf6l0b5rbh"
      }
    },
    {
      "cell_type": "markdown",
      "source": [
        "# My Code"
      ],
      "metadata": {
        "id": "d5E_P4wV6CWg"
      }
    },
    {
      "cell_type": "code",
      "execution_count": 1,
      "metadata": {
        "id": "YUeRwBqq5N4Q"
      },
      "outputs": [],
      "source": [
        "import pandas as pd\n",
        "\n",
        "def fillMissingValues(products: pd.DataFrame) -> pd.DataFrame:\n",
        "    products['quantity']=products['quantity'].fillna(0)\n",
        "    return products"
      ]
    }
  ]
}