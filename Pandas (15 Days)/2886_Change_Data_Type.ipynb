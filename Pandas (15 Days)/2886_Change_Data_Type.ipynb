{
  "nbformat": 4,
  "nbformat_minor": 0,
  "metadata": {
    "colab": {
      "provenance": []
    },
    "kernelspec": {
      "name": "python3",
      "display_name": "Python 3"
    },
    "language_info": {
      "name": "python"
    }
  },
  "cells": [
    {
      "cell_type": "code",
      "execution_count": 1,
      "metadata": {
        "id": "YUeRwBqq5N4Q"
      },
      "outputs": [],
      "source": [
        "import pandas as pd\n",
        "\n",
        "def changeDatatype(students: pd.DataFrame) -> pd.DataFrame:\n",
        "    students['grade']=students['grade'].astype(int)\n",
        "    return students\n",
        ""
      ]
    }
  ]
}