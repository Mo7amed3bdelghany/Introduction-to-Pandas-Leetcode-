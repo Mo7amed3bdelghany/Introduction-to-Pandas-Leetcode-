{
  "nbformat": 4,
  "nbformat_minor": 0,
  "metadata": {
    "colab": {
      "provenance": []
    },
    "kernelspec": {
      "name": "python3",
      "display_name": "Python 3"
    },
    "language_info": {
      "name": "python"
    }
  },
  "cells": [
    {
      "cell_type": "markdown",
      "source": [
        "# Approach\n",
        "We can use pandas' concat() function to vertically concatenate the two DataFrames. Here's the step-by-step approach:\n",
        "\n",
        "Use pd.concat() function.\n",
        "Pass both DataFrames as a list to the concat() function.\n",
        "Set axis=0 to indicate vertical concatenation (this is the default, so we can omit it).\n",
        "Use ignore_index=True if we want to reset the index of the resulting DataFrame.\n"
      ],
      "metadata": {
        "id": "3Snf6l0b5rbh"
      }
    },
    {
      "cell_type": "markdown",
      "source": [
        "# My Code"
      ],
      "metadata": {
        "id": "d5E_P4wV6CWg"
      }
    },
    {
      "cell_type": "code",
      "execution_count": 2,
      "metadata": {
        "id": "YUeRwBqq5N4Q"
      },
      "outputs": [],
      "source": [
        "import pandas as pd\n",
        "\n",
        "def concatenateTables(df1: pd.DataFrame, df2: pd.DataFrame) -> pd.DataFrame:\n",
        "    return pd.concat([df1,df2],axis=0, ignore_index=True)"
      ]
    }
  ]
}