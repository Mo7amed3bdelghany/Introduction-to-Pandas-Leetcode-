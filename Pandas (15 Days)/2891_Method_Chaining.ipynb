{
  "nbformat": 4,
  "nbformat_minor": 0,
  "metadata": {
    "colab": {
      "provenance": []
    },
    "kernelspec": {
      "name": "python3",
      "display_name": "Python 3"
    },
    "language_info": {
      "name": "python"
    }
  },
  "cells": [
    {
      "cell_type": "markdown",
      "source": [
        "# Approach\n",
        "- The first step is to select only the necessary columns `'name'` and `'weight'` from the original DataFrame to reduce memory usage. This is done by creating a new DataFrame with just these columns.\n",
        "- Next, we filter the `animals` based on their weight by applying a condition `animals['weight'] > 100`. This filters out animals with weights less than or equal to 100, leaving us with only the heavy animals.\n",
        "- Finally, we sort the filtered DataFrame by the `'weight'` column in descending order to have the heaviest animals first. After sorting, we select only the `'name'` column as the final result.  "
      ],
      "metadata": {
        "id": "3Snf6l0b5rbh"
      }
    },
    {
      "cell_type": "markdown",
      "source": [
        "# My Code"
      ],
      "metadata": {
        "id": "d5E_P4wV6CWg"
      }
    },
    {
      "cell_type": "code",
      "execution_count": 5,
      "metadata": {
        "id": "YUeRwBqq5N4Q"
      },
      "outputs": [],
      "source": [
        "import pandas as pd\n",
        "\n",
        "def findHeavyAnimals(animals: pd.DataFrame) -> pd.DataFrame:\n",
        "    return pd.DataFrame({'name': animals.sort_values('weight',ascending=False)[animals['weight']>100]['name']})\n"
      ]
    }
  ]
}