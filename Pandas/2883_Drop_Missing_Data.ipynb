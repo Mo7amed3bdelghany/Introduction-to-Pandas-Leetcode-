{
  "nbformat": 4,
  "nbformat_minor": 0,
  "metadata": {
    "colab": {
      "provenance": []
    },
    "kernelspec": {
      "name": "python3",
      "display_name": "Python 3"
    },
    "language_info": {
      "name": "python"
    }
  },
  "cells": [
    {
      "cell_type": "code",
      "execution_count": 2,
      "metadata": {
        "id": "gHlMIqTIAU6p"
      },
      "outputs": [],
      "source": [
        "import pandas as pd\n",
        "\n",
        "def dropMissingData(students: pd.DataFrame) -> pd.DataFrame:\n",
        "    students.dropna(subset = ['name'], inplace = True)\n",
        "    return students"
      ]
    },
    {
      "cell_type": "code",
      "source": [],
      "metadata": {
        "id": "dd7gBhtHAafZ"
      },
      "execution_count": null,
      "outputs": []
    }
  ]
}