{
  "nbformat": 4,
  "nbformat_minor": 0,
  "metadata": {
    "colab": {
      "provenance": []
    },
    "kernelspec": {
      "name": "python3",
      "display_name": "Python 3"
    },
    "language_info": {
      "name": "python"
    }
  },
  "cells": [
    {
      "cell_type": "code",
      "execution_count": 3,
      "metadata": {
        "id": "gHlMIqTIAU6p"
      },
      "outputs": [],
      "source": [
        "import pandas as pd\n",
        "\n",
        "def modifySalaryColumn(employees: pd.DataFrame) -> pd.DataFrame:\n",
        "    employees['salary']*=2\n",
        "    return employees"
      ]
    },
    {
      "cell_type": "code",
      "source": [],
      "metadata": {
        "id": "dd7gBhtHAafZ"
      },
      "execution_count": null,
      "outputs": []
    }
  ]
}