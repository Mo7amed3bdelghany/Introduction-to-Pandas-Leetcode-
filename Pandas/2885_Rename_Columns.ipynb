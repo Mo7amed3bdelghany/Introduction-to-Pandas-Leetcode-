{
  "nbformat": 4,
  "nbformat_minor": 0,
  "metadata": {
    "colab": {
      "provenance": []
    },
    "kernelspec": {
      "name": "python3",
      "display_name": "Python 3"
    },
    "language_info": {
      "name": "python"
    }
  },
  "cells": [
    {
      "cell_type": "code",
      "execution_count": 4,
      "metadata": {
        "id": "gHlMIqTIAU6p"
      },
      "outputs": [],
      "source": [
        "import pandas as pd\n",
        "\n",
        "def renameColumns(students: pd.DataFrame) -> pd.DataFrame:\n",
        "    students.columns=['student_id','first_name','last_name','age_in_years']\n",
        "\n",
        "    return students\n",
        ""
      ]
    },
    {
      "cell_type": "markdown",
      "source": [
        "### OR"
      ],
      "metadata": {
        "id": "4YOvZmQhBRE1"
      }
    },
    {
      "cell_type": "code",
      "source": [
        "import pandas as pd\n",
        "\n",
        "def renameColumns(students: pd.DataFrame) -> pd.DataFrame:\n",
        "    students.rename(columns={'id':'student_id','first':'first_name','last':'last_name','age':'age_in_years'},inplace=True)\n",
        "\n",
        "    return students\n"
      ],
      "metadata": {
        "id": "dd7gBhtHAafZ"
      },
      "execution_count": 5,
      "outputs": []
    },
    {
      "cell_type": "markdown",
      "source": [
        "###OR"
      ],
      "metadata": {
        "id": "21DG2hWSBZ0u"
      }
    },
    {
      "cell_type": "code",
      "source": [
        "import pandas as pd\n",
        "\n",
        "def renameColumns(students: pd.DataFrame) -> pd.DataFrame:\n",
        "    x = students.set_axis(['student_id','first_name','last_name','age_in_years'], axis=1)\n",
        "\n",
        "    return x"
      ],
      "metadata": {
        "id": "SB2XknJ1BLWP"
      },
      "execution_count": 6,
      "outputs": []
    },
    {
      "cell_type": "code",
      "source": [],
      "metadata": {
        "id": "PvH3YW8tBfAe"
      },
      "execution_count": null,
      "outputs": []
    }
  ]
}